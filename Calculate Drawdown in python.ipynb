{
 "cells": [
  {
   "cell_type": "markdown",
   "id": "bc4c7029",
   "metadata": {},
   "source": [
    "# Calculate Drawdown in Python"
   ]
  },
  {
   "cell_type": "code",
   "execution_count": 4,
   "id": "8ac52a96",
   "metadata": {},
   "outputs": [],
   "source": [
    "import pandas as pd\n",
    "data= pd.read_csv('C:/Users/DELL/Desktop/Drawdown.csv')"
   ]
  },
  {
   "cell_type": "code",
   "execution_count": 5,
   "id": "0ecd7b8f",
   "metadata": {},
   "outputs": [
    {
     "data": {
      "text/html": [
       "<div>\n",
       "<style scoped>\n",
       "    .dataframe tbody tr th:only-of-type {\n",
       "        vertical-align: middle;\n",
       "    }\n",
       "\n",
       "    .dataframe tbody tr th {\n",
       "        vertical-align: top;\n",
       "    }\n",
       "\n",
       "    .dataframe thead th {\n",
       "        text-align: right;\n",
       "    }\n",
       "</style>\n",
       "<table border=\"1\" class=\"dataframe\">\n",
       "  <thead>\n",
       "    <tr style=\"text-align: right;\">\n",
       "      <th></th>\n",
       "      <th>Date</th>\n",
       "      <th>PnL Points</th>\n",
       "      <th>Lot Size</th>\n",
       "      <th>Pnl</th>\n",
       "    </tr>\n",
       "  </thead>\n",
       "  <tbody>\n",
       "    <tr>\n",
       "      <th>0</th>\n",
       "      <td>02-01-2015</td>\n",
       "      <td>140.176900</td>\n",
       "      <td>25</td>\n",
       "      <td>3504.40</td>\n",
       "    </tr>\n",
       "    <tr>\n",
       "      <th>1</th>\n",
       "      <td>06-01-2015</td>\n",
       "      <td>382.000000</td>\n",
       "      <td>25</td>\n",
       "      <td>9550.00</td>\n",
       "    </tr>\n",
       "    <tr>\n",
       "      <th>2</th>\n",
       "      <td>08-01-2015</td>\n",
       "      <td>-74.360000</td>\n",
       "      <td>25</td>\n",
       "      <td>-1859.00</td>\n",
       "    </tr>\n",
       "    <tr>\n",
       "      <th>3</th>\n",
       "      <td>09-01-2015</td>\n",
       "      <td>-74.256609</td>\n",
       "      <td>25</td>\n",
       "      <td>-1856.42</td>\n",
       "    </tr>\n",
       "    <tr>\n",
       "      <th>4</th>\n",
       "      <td>15-01-2015</td>\n",
       "      <td>-76.614800</td>\n",
       "      <td>25</td>\n",
       "      <td>-1915.37</td>\n",
       "    </tr>\n",
       "    <tr>\n",
       "      <th>...</th>\n",
       "      <td>...</td>\n",
       "      <td>...</td>\n",
       "      <td>...</td>\n",
       "      <td>...</td>\n",
       "    </tr>\n",
       "    <tr>\n",
       "      <th>568</th>\n",
       "      <td>13-05-2020</td>\n",
       "      <td>-78.914600</td>\n",
       "      <td>25</td>\n",
       "      <td>-1972.87</td>\n",
       "    </tr>\n",
       "    <tr>\n",
       "      <th>569</th>\n",
       "      <td>14-05-2020</td>\n",
       "      <td>-76.142980</td>\n",
       "      <td>25</td>\n",
       "      <td>-1903.57</td>\n",
       "    </tr>\n",
       "    <tr>\n",
       "      <th>570</th>\n",
       "      <td>18-05-2020</td>\n",
       "      <td>738.134500</td>\n",
       "      <td>25</td>\n",
       "      <td>18453.36</td>\n",
       "    </tr>\n",
       "    <tr>\n",
       "      <th>571</th>\n",
       "      <td>22-05-2020</td>\n",
       "      <td>-68.375169</td>\n",
       "      <td>25</td>\n",
       "      <td>-1709.38</td>\n",
       "    </tr>\n",
       "    <tr>\n",
       "      <th>572</th>\n",
       "      <td>27-05-2020</td>\n",
       "      <td>-71.391051</td>\n",
       "      <td>25</td>\n",
       "      <td>-1784.78</td>\n",
       "    </tr>\n",
       "  </tbody>\n",
       "</table>\n",
       "<p>573 rows × 4 columns</p>\n",
       "</div>"
      ],
      "text/plain": [
       "           Date  PnL Points  Lot Size       Pnl\n",
       "0    02-01-2015  140.176900        25   3504.40\n",
       "1    06-01-2015  382.000000        25   9550.00\n",
       "2    08-01-2015  -74.360000        25  -1859.00\n",
       "3    09-01-2015  -74.256609        25  -1856.42\n",
       "4    15-01-2015  -76.614800        25  -1915.37\n",
       "..          ...         ...       ...       ...\n",
       "568  13-05-2020  -78.914600        25  -1972.87\n",
       "569  14-05-2020  -76.142980        25  -1903.57\n",
       "570  18-05-2020  738.134500        25  18453.36\n",
       "571  22-05-2020  -68.375169        25  -1709.38\n",
       "572  27-05-2020  -71.391051        25  -1784.78\n",
       "\n",
       "[573 rows x 4 columns]"
      ]
     },
     "execution_count": 5,
     "metadata": {},
     "output_type": "execute_result"
    }
   ],
   "source": [
    "data"
   ]
  },
  {
   "cell_type": "code",
   "execution_count": 16,
   "id": "34248d34",
   "metadata": {},
   "outputs": [
    {
     "data": {
      "text/plain": [
       "-6.471929730766138"
      ]
     },
     "execution_count": 16,
     "metadata": {},
     "output_type": "execute_result"
    }
   ],
   "source": [
    "data['cum_pnl']=data['Pnl'].cumsum()\n",
    "initial_investment=150000\n",
    "data['equity']=data['cum_pnl']+initial_investment\n",
    "data['peak']=data['equity'].cummax()\n",
    "data['drawdown']=((data['equity']-data['peak'])/data['peak'])*100\n",
    "max_DD1=data['drawdown'].min()\n",
    "max_DD1"
   ]
  },
  {
   "cell_type": "code",
   "execution_count": 2,
   "id": "cfb03e74",
   "metadata": {},
   "outputs": [
    {
     "name": "stdout",
     "output_type": "stream",
     "text": [
      "-6.471929730766138\n"
     ]
    }
   ],
   "source": [
    "#drawdown option 1\n",
    "initial_investment=150000\n",
    "data['cum_pnl']=data['Pnl'].cumsum()\n",
    "data['equity']=data['cum_pnl']+initial_investment\n",
    "data['peak']=data['equity'].cummax()\n",
    "data['drawdown']=((data['equity']-data['peak'])/data['peak'])*100\n",
    "max_DD1=data['drawdown'].min()\n",
    "print(max_DD1)"
   ]
  },
  {
   "cell_type": "code",
   "execution_count": 3,
   "id": "dddd76d7",
   "metadata": {},
   "outputs": [
    {
     "name": "stdout",
     "output_type": "stream",
     "text": [
      "-6.471929730766135\n"
     ]
    }
   ],
   "source": [
    "#drawdown option 2\n",
    "data['peak2']=data['equity'].rolling(window=len(data['equity']),min_periods=1).max()\n",
    "data['drawdown2']=(data['equity']/data['peak2']-1)*100\n",
    "max_DD2=data['drawdown2'].min()\n",
    "print(max_DD2)"
   ]
  },
  {
   "cell_type": "code",
   "execution_count": 17,
   "id": "5cecc4fa",
   "metadata": {},
   "outputs": [],
   "source": [
    "data['cum_pnl']=data['Pnl'].cumsum()\n",
    "initial_investment=150000\n",
    "data['equity']=data['cum_pnl']+initial_investment"
   ]
  },
  {
   "cell_type": "code",
   "execution_count": 19,
   "id": "d1b613f7",
   "metadata": {},
   "outputs": [],
   "source": [
    "data['peak2']=data['equity'].rolling(window=len(data['equity']),min_periods=1).max()"
   ]
  },
  {
   "cell_type": "code",
   "execution_count": 21,
   "id": "014ba299",
   "metadata": {},
   "outputs": [],
   "source": [
    "data['drawdown2']=(data['equity']/data['peak2']-1)*100"
   ]
  },
  {
   "cell_type": "code",
   "execution_count": 23,
   "id": "59d0b3c1",
   "metadata": {},
   "outputs": [],
   "source": [
    "max_DD2=data['drawdown2'].min()"
   ]
  },
  {
   "cell_type": "code",
   "execution_count": 24,
   "id": "fecacb88",
   "metadata": {},
   "outputs": [
    {
     "name": "stdout",
     "output_type": "stream",
     "text": [
      "-6.471929730766135\n"
     ]
    }
   ],
   "source": [
    "print(max_DD2)"
   ]
  },
  {
   "cell_type": "code",
   "execution_count": null,
   "id": "a309ac32",
   "metadata": {},
   "outputs": [],
   "source": []
  }
 ],
 "metadata": {
  "kernelspec": {
   "display_name": "Python 3 (ipykernel)",
   "language": "python",
   "name": "python3"
  },
  "language_info": {
   "codemirror_mode": {
    "name": "ipython",
    "version": 3
   },
   "file_extension": ".py",
   "mimetype": "text/x-python",
   "name": "python",
   "nbconvert_exporter": "python",
   "pygments_lexer": "ipython3",
   "version": "3.11.5"
  }
 },
 "nbformat": 4,
 "nbformat_minor": 5
}
